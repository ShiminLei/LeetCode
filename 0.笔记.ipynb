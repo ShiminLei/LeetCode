{
 "cells": [
  {
   "cell_type": "markdown",
   "metadata": {},
   "source": [
    "### 面试集锦"
   ]
  },
  {
   "cell_type": "code",
   "execution_count": 10,
   "metadata": {},
   "outputs": [
    {
     "data": {
      "text/plain": [
       "[1, 3, 3, 3, 4, 6]"
      ]
     },
     "execution_count": 10,
     "metadata": {},
     "output_type": "execute_result"
    }
   ],
   "source": [
    "# 写出merge sort\n",
    "\n",
    "class solution: # merge_sort 关键是一个in-place的操作\n",
    "    def merge_sort(self,A,l,r):\n",
    "        if l<r:\n",
    "            m = l+(r-l)//2\n",
    "            self.merge_sort(A,l,m)\n",
    "            self.merge_sort(A,m+1,r)\n",
    "            self.merge(A,l,m,r)\n",
    "    def merge(self,A,l,m,r):\n",
    "        list1 = A[l:m+1]+[float('inf')]\n",
    "        list2 = A[m+1:r+1]+[float('inf')]\n",
    "        i,j=0,0\n",
    "        for k in range(l,r+1):\n",
    "            if list1[i]<=list2[j]:\n",
    "                A[k] = list1[i]\n",
    "                i+=1\n",
    "            else:\n",
    "                A[k] = list2[j]\n",
    "                j+=1\n",
    "\n",
    "sort = solution()\n",
    "a= [3,4,6,3,1,3]\n",
    "sort.merge_sort(a,0,len(a)-1)\n",
    "a\n"
   ]
  },
  {
   "cell_type": "code",
   "execution_count": null,
   "metadata": {},
   "outputs": [],
   "source": []
  },
  {
   "cell_type": "code",
   "execution_count": null,
   "metadata": {},
   "outputs": [],
   "source": []
  },
  {
   "cell_type": "code",
   "execution_count": null,
   "metadata": {},
   "outputs": [],
   "source": []
  },
  {
   "cell_type": "code",
   "execution_count": null,
   "metadata": {},
   "outputs": [],
   "source": []
  },
  {
   "cell_type": "markdown",
   "metadata": {},
   "source": [
    "### 5.二分搜索"
   ]
  },
  {
   "cell_type": "markdown",
   "metadata": {},
   "source": [
    "二分搜索法的模版"
   ]
  },
  {
   "cell_type": "code",
   "execution_count": null,
   "metadata": {},
   "outputs": [],
   "source": [
    "def binary_search(alist, target):\n",
    "    if len(alist)==0:\n",
    "        return -1\n",
    "    \n",
    "    left, right = 0, len(alist)-1 #left, right 是数组的下标\n",
    "    \n",
    "    while left+1 < right: # 退出条件： L R 相邻，或者在同一个位置\n",
    "        mid = left + (right-left)//2\n",
    "        if alist[mid] == target:\n",
    "            right = mid  # 这样写可以保证，如果等号成立，最后可以找到重复数字的第一个，比如 1122225\n",
    "            #left = mid   # 如果是这样，可以找到重复数字的最后一个\n",
    "        elif alist[mid] < target:\n",
    "            left = mid\n",
    "        else:\n",
    "            right = mid\n",
    "            \n",
    "    if alist[left] == item:\n",
    "        return left\n",
    "    else:\n",
    "        return right\n",
    "    return -1"
   ]
  },
  {
   "cell_type": "code",
   "execution_count": 1,
   "metadata": {},
   "outputs": [
    {
     "data": {
      "text/plain": [
       "[3, 2, 1]"
      ]
     },
     "execution_count": 1,
     "metadata": {},
     "output_type": "execute_result"
    }
   ],
   "source": [
    "list(range(3,0,-1))"
   ]
  },
  {
   "cell_type": "code",
   "execution_count": null,
   "metadata": {},
   "outputs": [],
   "source": []
  }
 ],
 "metadata": {
  "kernelspec": {
   "display_name": "Python 3",
   "language": "python",
   "name": "python3"
  },
  "language_info": {
   "codemirror_mode": {
    "name": "ipython",
    "version": 3
   },
   "file_extension": ".py",
   "mimetype": "text/x-python",
   "name": "python",
   "nbconvert_exporter": "python",
   "pygments_lexer": "ipython3",
   "version": "3.6.8"
  }
 },
 "nbformat": 4,
 "nbformat_minor": 2
}
