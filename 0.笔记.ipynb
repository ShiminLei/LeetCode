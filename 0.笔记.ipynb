{
 "cells": [
  {
   "cell_type": "markdown",
   "metadata": {
    "toc": true
   },
   "source": [
    "<h1>Table of Contents<span class=\"tocSkip\"></span></h1>\n",
    "<div class=\"toc\"><ul class=\"toc-item\"><li><span><a href=\"#搜索与排序\" data-toc-modified-id=\"搜索与排序-1\"><span class=\"toc-item-num\">1&nbsp;&nbsp;</span>搜索与排序</a></span><ul class=\"toc-item\"><li><span><a href=\"#insertion-sort\" data-toc-modified-id=\"insertion-sort-1.1\"><span class=\"toc-item-num\">1.1&nbsp;&nbsp;</span>insertion sort</a></span></li><li><span><a href=\"#merge-sort\" data-toc-modified-id=\"merge-sort-1.2\"><span class=\"toc-item-num\">1.2&nbsp;&nbsp;</span>merge sort</a></span></li><li><span><a href=\"#quick-sort\" data-toc-modified-id=\"quick-sort-1.3\"><span class=\"toc-item-num\">1.3&nbsp;&nbsp;</span>quick sort</a></span></li></ul></li><li><span><a href=\"#二分搜索\" data-toc-modified-id=\"二分搜索-2\"><span class=\"toc-item-num\">2&nbsp;&nbsp;</span>二分搜索</a></span></li><li><span><a href=\"#堆栈\" data-toc-modified-id=\"堆栈-3\"><span class=\"toc-item-num\">3&nbsp;&nbsp;</span>堆栈</a></span></li></ul></div>"
   ]
  },
  {
   "cell_type": "markdown",
   "metadata": {},
   "source": [
    "### 搜索与排序"
   ]
  },
  {
   "cell_type": "markdown",
   "metadata": {},
   "source": [
    "#### insertion sort"
   ]
  },
  {
   "cell_type": "code",
   "execution_count": 9,
   "metadata": {},
   "outputs": [
    {
     "data": {
      "text/plain": [
       "[1, 2, 3, 4, 6]"
      ]
     },
     "execution_count": 9,
     "metadata": {},
     "output_type": "execute_result"
    }
   ],
   "source": [
    "def insertion_sort(A):\n",
    "    for j in range(1,len(A)):\n",
    "        key = A[j]\n",
    "        i=j-1\n",
    "        while i>=0 and A[i]>key:\n",
    "            A[i+1]=A[i]\n",
    "            i-=1\n",
    "        A[i+1]=key\n",
    "A = [1,4,3,2,6]\n",
    "insertion_sort(A)\n",
    "A"
   ]
  },
  {
   "cell_type": "markdown",
   "metadata": {},
   "source": [
    "#### merge sort"
   ]
  },
  {
   "cell_type": "code",
   "execution_count": 26,
   "metadata": {},
   "outputs": [
    {
     "data": {
      "text/plain": [
       "[1, 3, 3, 3, 4, 6]"
      ]
     },
     "execution_count": 26,
     "metadata": {},
     "output_type": "execute_result"
    }
   ],
   "source": [
    "# 写出merge sort\n",
    "# merge_sort 是一个in-place的操作, 算法导论用的方法\n",
    "def merge_sort(A,l,r):\n",
    "    if l<r:\n",
    "        m = l+(r-l)//2\n",
    "        merge_sort(A,l,m)\n",
    "        merge_sort(A,m+1,r)\n",
    "        merge(A,l,m,r)\n",
    "def merge(A,l,m,r):\n",
    "    list1 = A[l:m+1]+[float('inf')]\n",
    "    list2 = A[m+1:r+1]+[float('inf')]\n",
    "    i,j=0,0\n",
    "    for k in range(l,r+1):\n",
    "        if list1[i]<=list2[j]:\n",
    "            A[k] = list1[i]\n",
    "            i+=1\n",
    "        else:\n",
    "            A[k] = list2[j]\n",
    "            j+=1\n",
    "\n",
    "a= [3,4,6,3,1,3]\n",
    "merge_sort(a,0,len(a)-1)\n",
    "a\n"
   ]
  },
  {
   "cell_type": "code",
   "execution_count": 27,
   "metadata": {},
   "outputs": [
    {
     "data": {
      "text/plain": [
       "[1, 3, 3, 3, 4, 6]"
      ]
     },
     "execution_count": 27,
     "metadata": {},
     "output_type": "execute_result"
    }
   ],
   "source": [
    "def merge(A,B):\n",
    "    i, j = 0, 0\n",
    "    res = []\n",
    "    while i<len(A) and j<len(B):\n",
    "        if A[i]<=B[j]:\n",
    "            res.append(A[i])\n",
    "            i+=1\n",
    "        else:\n",
    "            res.append(B[j])\n",
    "            j+=1\n",
    "    return res + A[i:]+B[j:]\n",
    "\n",
    "def merge_sort(A):\n",
    "    if not A: return []\n",
    "    elif len(A)==1: return A\n",
    "    mid  = len(A)//2\n",
    "    list1 = merge_sort(A[:mid])\n",
    "    list2 = merge_sort(A[mid:])\n",
    "    return merge(list1, list2)\n",
    "\n",
    "a= [3,4,6,3,1,3]\n",
    "merge_sort(a)\n",
    "\n"
   ]
  },
  {
   "cell_type": "markdown",
   "metadata": {},
   "source": [
    "#### quick sort"
   ]
  },
  {
   "cell_type": "code",
   "execution_count": 5,
   "metadata": {},
   "outputs": [
    {
     "data": {
      "text/plain": [
       "[0, 1, 2, 2, 3]"
      ]
     },
     "execution_count": 5,
     "metadata": {},
     "output_type": "execute_result"
    }
   ],
   "source": [
    "# 图解讲解在我的bilibili\n",
    "# https://www.bilibili.com/video/av47837026/ \n",
    "\n",
    "def partition(A,l,r):\n",
    "    pivot = A[r] # 选取数组最后一个元素作为pivot\n",
    "    i = l-1 # i是慢指针\n",
    "    for j in range(l,r): #j是快指针，终止位置在倒数第二个位置\n",
    "        if A[j]<pivot:\n",
    "            i+=1\n",
    "            A[i],A[j]=A[j],A[i]\n",
    "    A[i+1],A[r]=A[r],A[i+1]\n",
    "    return i+1 #return的是原数组 pivot所在的下标\n",
    "\n",
    "def quick_sort(A,l,r):\n",
    "    if l<r: #终止条件\n",
    "        pivot_index = partition(A,l,r)\n",
    "        quick_sort(A,l,pivot_index-1)\n",
    "        quick_sort(A,pivot_index+1,r)\n",
    "        \n",
    "A = [2,3,0,2,1]\n",
    "quick_sort(A,0,len(A)-1)\n",
    "A\n"
   ]
  },
  {
   "cell_type": "code",
   "execution_count": null,
   "metadata": {},
   "outputs": [],
   "source": []
  },
  {
   "cell_type": "markdown",
   "metadata": {},
   "source": [
    "### 二分搜索"
   ]
  },
  {
   "cell_type": "markdown",
   "metadata": {},
   "source": [
    "二分搜索法的模版"
   ]
  },
  {
   "cell_type": "code",
   "execution_count": null,
   "metadata": {},
   "outputs": [],
   "source": [
    "def binary_search(alist, target):\n",
    "    if len(alist)==0:\n",
    "        return -1\n",
    "    \n",
    "    left, right = 0, len(alist)-1 #left, right 是数组的下标\n",
    "    \n",
    "    while left+1 < right: # 退出条件： L R 相邻，或者在同一个位置\n",
    "        mid = left + (right-left)//2\n",
    "        if alist[mid] == target:\n",
    "            right = mid  # 这样写可以保证，如果等号成立，最后可以找到重复数字的第一个，比如 1122225\n",
    "            #left = mid   # 如果是这样，可以找到重复数字的最后一个\n",
    "        elif alist[mid] < target:\n",
    "            left = mid\n",
    "        else:\n",
    "            right = mid\n",
    "            \n",
    "    if alist[left] == item:\n",
    "        return left\n",
    "    else:\n",
    "        return right\n",
    "    return -1"
   ]
  },
  {
   "cell_type": "markdown",
   "metadata": {},
   "source": [
    "### 堆栈"
   ]
  },
  {
   "cell_type": "code",
   "execution_count": null,
   "metadata": {},
   "outputs": [],
   "source": []
  },
  {
   "cell_type": "code",
   "execution_count": null,
   "metadata": {},
   "outputs": [],
   "source": []
  }
 ],
 "metadata": {
  "kernelspec": {
   "display_name": "Python 3",
   "language": "python",
   "name": "python3"
  },
  "language_info": {
   "codemirror_mode": {
    "name": "ipython",
    "version": 3
   },
   "file_extension": ".py",
   "mimetype": "text/x-python",
   "name": "python",
   "nbconvert_exporter": "python",
   "pygments_lexer": "ipython3",
   "version": "3.6.8"
  },
  "latex_envs": {
   "LaTeX_envs_menu_present": true,
   "autoclose": false,
   "autocomplete": true,
   "bibliofile": "biblio.bib",
   "cite_by": "apalike",
   "current_citInitial": 1.0,
   "eqLabelWithNumbers": true,
   "eqNumInitial": 1.0,
   "hotkeys": {
    "equation": "Ctrl-E",
    "itemize": "Ctrl-I"
   },
   "labels_anchors": false,
   "latex_user_defs": false,
   "report_style_numbering": false,
   "user_envs_cfg": false
  },
  "toc": {
   "base_numbering": 1.0,
   "nav_menu": {},
   "number_sections": true,
   "sideBar": true,
   "skip_h1_title": false,
   "title_cell": "Table of Contents",
   "title_sidebar": "Contents",
   "toc_cell": true,
   "toc_position": {},
   "toc_section_display": true,
   "toc_window_display": false
  }
 },
 "nbformat": 4,
 "nbformat_minor": 2
}
