{
 "cells": [
  {
   "cell_type": "markdown",
   "metadata": {
    "toc": true
   },
   "source": [
    "<h1>Table of Contents<span class=\"tocSkip\"></span></h1>\n",
    "<div class=\"toc\"><ul class=\"toc-item\"><li><span><a href=\"#搜索与排序\" data-toc-modified-id=\"搜索与排序-1\"><span class=\"toc-item-num\">1&nbsp;&nbsp;</span>搜索与排序</a></span><ul class=\"toc-item\"><li><span><a href=\"#insertion-sort\" data-toc-modified-id=\"insertion-sort-1.1\"><span class=\"toc-item-num\">1.1&nbsp;&nbsp;</span>insertion sort</a></span></li><li><span><a href=\"#merge-sort\" data-toc-modified-id=\"merge-sort-1.2\"><span class=\"toc-item-num\">1.2&nbsp;&nbsp;</span>merge sort</a></span></li><li><span><a href=\"#quick-sort\" data-toc-modified-id=\"quick-sort-1.3\"><span class=\"toc-item-num\">1.3&nbsp;&nbsp;</span>quick sort</a></span></li></ul></li><li><span><a href=\"#二分搜索\" data-toc-modified-id=\"二分搜索-2\"><span class=\"toc-item-num\">2&nbsp;&nbsp;</span>二分搜索</a></span></li><li><span><a href=\"#堆栈和队列\" data-toc-modified-id=\"堆栈和队列-3\"><span class=\"toc-item-num\">3&nbsp;&nbsp;</span>堆栈和队列</a></span></li><li><span><a href=\"#树\" data-toc-modified-id=\"树-4\"><span class=\"toc-item-num\">4&nbsp;&nbsp;</span>树</a></span></li></ul></div>"
   ]
  },
  {
   "cell_type": "markdown",
   "metadata": {},
   "source": [
    "### 搜索与排序"
   ]
  },
  {
   "cell_type": "markdown",
   "metadata": {},
   "source": [
    "#### insertion sort"
   ]
  },
  {
   "cell_type": "code",
   "execution_count": 1,
   "metadata": {},
   "outputs": [
    {
     "data": {
      "text/plain": [
       "[1, 2, 3, 4, 6]"
      ]
     },
     "execution_count": 1,
     "metadata": {},
     "output_type": "execute_result"
    }
   ],
   "source": [
    "def insertion_sort(A):\n",
    "    for j in range(1,len(A)):\n",
    "        key = A[j]\n",
    "        i=j-1\n",
    "        while i>=0 and A[i]>key:\n",
    "            A[i+1]=A[i]\n",
    "            i-=1\n",
    "        A[i+1]=key\n",
    "A = [1,4,3,2,6]\n",
    "insertion_sort(A)\n",
    "A"
   ]
  },
  {
   "cell_type": "markdown",
   "metadata": {},
   "source": [
    "#### merge sort"
   ]
  },
  {
   "cell_type": "code",
   "execution_count": 26,
   "metadata": {},
   "outputs": [
    {
     "data": {
      "text/plain": [
       "[1, 3, 3, 3, 4, 6]"
      ]
     },
     "execution_count": 26,
     "metadata": {},
     "output_type": "execute_result"
    }
   ],
   "source": [
    "# 写出merge sort\n",
    "# merge_sort 是一个in-place的操作, 算法导论用的方法\n",
    "def merge_sort(A,l,r):\n",
    "    if l<r:\n",
    "        m = l+(r-l)//2\n",
    "        merge_sort(A,l,m)\n",
    "        merge_sort(A,m+1,r)\n",
    "        merge(A,l,m,r)\n",
    "def merge(A,l,m,r):\n",
    "    list1 = A[l:m+1]+[float('inf')]\n",
    "    list2 = A[m+1:r+1]+[float('inf')]\n",
    "    i,j=0,0\n",
    "    for k in range(l,r+1):\n",
    "        if list1[i]<=list2[j]:\n",
    "            A[k] = list1[i]\n",
    "            i+=1\n",
    "        else:\n",
    "            A[k] = list2[j]\n",
    "            j+=1\n",
    "\n",
    "a= [3,4,6,3,1,3]\n",
    "merge_sort(a,0,len(a)-1)\n",
    "a\n"
   ]
  },
  {
   "cell_type": "code",
   "execution_count": 27,
   "metadata": {},
   "outputs": [
    {
     "data": {
      "text/plain": [
       "[1, 3, 3, 3, 4, 6]"
      ]
     },
     "execution_count": 27,
     "metadata": {},
     "output_type": "execute_result"
    }
   ],
   "source": [
    "def merge(A,B):\n",
    "    i, j = 0, 0\n",
    "    res = []\n",
    "    while i<len(A) and j<len(B):\n",
    "        if A[i]<=B[j]:\n",
    "            res.append(A[i])\n",
    "            i+=1\n",
    "        else:\n",
    "            res.append(B[j])\n",
    "            j+=1\n",
    "    return res + A[i:]+B[j:]\n",
    "\n",
    "def merge_sort(A):\n",
    "    if not A: return []\n",
    "    elif len(A)==1: return A\n",
    "    mid  = len(A)//2\n",
    "    list1 = merge_sort(A[:mid])\n",
    "    list2 = merge_sort(A[mid:])\n",
    "    return merge(list1, list2)\n",
    "\n",
    "a= [3,4,6,3,1,3]\n",
    "merge_sort(a)\n",
    "\n"
   ]
  },
  {
   "cell_type": "markdown",
   "metadata": {},
   "source": [
    "#### quick sort"
   ]
  },
  {
   "cell_type": "code",
   "execution_count": 5,
   "metadata": {},
   "outputs": [
    {
     "data": {
      "text/plain": [
       "[0, 1, 2, 2, 3]"
      ]
     },
     "execution_count": 5,
     "metadata": {},
     "output_type": "execute_result"
    }
   ],
   "source": [
    "# 图解讲解在我的bilibili\n",
    "# https://www.bilibili.com/video/av47837026/ \n",
    "\n",
    "def partition(A,l,r):\n",
    "    pivot = A[r] # 选取数组最后一个元素作为pivot\n",
    "    i = l-1 # i是慢指针\n",
    "    for j in range(l,r): #j是快指针，终止位置在倒数第二个位置\n",
    "        if A[j]<pivot:\n",
    "            i+=1\n",
    "            A[i],A[j]=A[j],A[i]\n",
    "    A[i+1],A[r]=A[r],A[i+1]\n",
    "    return i+1 #return的是原数组 pivot所在的下标\n",
    "\n",
    "def quick_sort(A,l,r):\n",
    "    if l<r: #终止条件\n",
    "        pivot_index = partition(A,l,r)\n",
    "        quick_sort(A,l,pivot_index-1)\n",
    "        quick_sort(A,pivot_index+1,r)\n",
    "        \n",
    "A = [2,3,0,2,1]\n",
    "quick_sort(A,0,len(A)-1)\n",
    "A\n"
   ]
  },
  {
   "cell_type": "markdown",
   "metadata": {},
   "source": [
    "#### selection sort"
   ]
  },
  {
   "cell_type": "code",
   "execution_count": 6,
   "metadata": {},
   "outputs": [
    {
     "data": {
      "text/plain": [
       "[0, 1, 2, 2, 3]"
      ]
     },
     "execution_count": 6,
     "metadata": {},
     "output_type": "execute_result"
    }
   ],
   "source": [
    "def selection_sort(A):\n",
    "    for i in range(len(A)):\n",
    "        index = i\n",
    "        mini = A[i]\n",
    "        for j in range(i+1,len(A)):\n",
    "            if A[j]<mini:\n",
    "                mini = A[j]\n",
    "                index = j\n",
    "        A[i], A[index] = A[index], A[i]\n",
    "        \n",
    "A = [2,3,0,2,1]\n",
    "selection_sort(A)\n",
    "A\n"
   ]
  },
  {
   "cell_type": "markdown",
   "metadata": {},
   "source": [
    "#### bubble sort "
   ]
  },
  {
   "cell_type": "code",
   "execution_count": 17,
   "metadata": {},
   "outputs": [
    {
     "data": {
      "text/plain": [
       "[1, 2, 2, 3, 4]"
      ]
     },
     "execution_count": 17,
     "metadata": {},
     "output_type": "execute_result"
    }
   ],
   "source": [
    "def bubble_sort(A):\n",
    "    for n in reversed(range(len(A)-1)):\n",
    "        for i in range(n):\n",
    "            if A[i]>A[i+1]:\n",
    "                A[i],A[i+1] = A[i+1], A[i]\n",
    "A = [3,2,2,1,4]\n",
    "bubble_sort(A)\n",
    "A\n",
    "            "
   ]
  },
  {
   "cell_type": "markdown",
   "metadata": {},
   "source": [
    "#### bucket sort"
   ]
  },
  {
   "cell_type": "code",
   "execution_count": 20,
   "metadata": {},
   "outputs": [
    {
     "data": {
      "text/plain": [
       "[0.1, 0.11, 0.2, 0.3, 0.34, 0.4, 0.4, 0.6, 0.76, 0.89]"
      ]
     },
     "execution_count": 20,
     "metadata": {},
     "output_type": "execute_result"
    }
   ],
   "source": [
    "class ListNode:\n",
    "    def __init__(self, x):\n",
    "        self.val = x\n",
    "        self.next = None\n",
    "\n",
    "def insertionSortList(head):\n",
    "    if not head: return head      \n",
    "    dummy = ListNode(None)\n",
    "    cur = head\n",
    "    while cur:\n",
    "        pre = dummy\n",
    "        while pre.next and pre.next.val<cur.val:\n",
    "            pre = pre.next\n",
    "        temp = cur.next\n",
    "        cur.next = pre.next\n",
    "        pre.next = cur\n",
    "        cur = temp\n",
    "    return dummy.next\n",
    "\n",
    "def bucket_sort(A, bucket_size):\n",
    "    n = len(A)\n",
    "    maxi = max(A)\n",
    "    mini = min(A)\n",
    "    interval = (maxi-mini)/bucket_size\n",
    "    \n",
    "    B = [ListNode(None) for _ in range(bucket_size)]\n",
    "    B_dummy = [node for node in B]\n",
    "    \n",
    "    for i in range(n):\n",
    "        pos = int((A[i]-mini)/interval)\n",
    "        pos = pos if pos != bucket_size else bucket_size-1\n",
    "        B[pos].next = ListNode(A[i])\n",
    "        B[pos] = B[pos].next\n",
    "   \n",
    "    # for print only\n",
    "    res = []\n",
    "    for i in range( bucket_size):\n",
    "        if B_dummy[i].next:\n",
    "            insertionSortList(B_dummy[i].next)\n",
    "            cur = B_dummy[i].next\n",
    "            while cur:\n",
    "                res.append(cur.val)\n",
    "                cur = cur.next\n",
    "                \n",
    "    return res\n",
    "    \n",
    "    \n",
    "            \n",
    "A = [0.1, 0.11, 0.3, 0.2, 0.76, 0.34, 0.6, 0.89, 0.4, 0.4]\n",
    "bucket_sort(A, 5)\n",
    "\n",
    "\n",
    "    "
   ]
  },
  {
   "cell_type": "markdown",
   "metadata": {},
   "source": [
    "### 二分搜索"
   ]
  },
  {
   "cell_type": "markdown",
   "metadata": {},
   "source": [
    "二分搜索法的模版"
   ]
  },
  {
   "cell_type": "code",
   "execution_count": 30,
   "metadata": {},
   "outputs": [
    {
     "data": {
      "text/plain": [
       "-1"
      ]
     },
     "execution_count": 30,
     "metadata": {},
     "output_type": "execute_result"
    }
   ],
   "source": [
    "# 对于一般的无重复的数组问题\n",
    "def binary_search(alist, target):\n",
    "    if len(alist)==0:\n",
    "        return -1\n",
    "    \n",
    "    left, right = 0, len(alist)-1 #left, right 是数组的下标\n",
    "    \n",
    "    while left <= right: \n",
    "        mid = left + (right-left)//2\n",
    "        if alist[mid] == target:\n",
    "            return mid\n",
    "        elif alist[mid] < target:\n",
    "            left = mid +1\n",
    "        else:\n",
    "            right = mid -1\n",
    "\n",
    "    return -1\n",
    "\n",
    "def binary_search(alist, target):\n",
    "    if len(alist)==0:\n",
    "        return -1\n",
    "    \n",
    "    left, right = 0, len(alist)-1 #left, right 是数组的下标\n",
    "    \n",
    "    while left+1 < right: # 退出条件： L R 相邻，或者在同一个位置\n",
    "        mid = left + (right-left)//2\n",
    "        if alist[mid] == target:\n",
    "            right = mid  # 这样写可以保证，如果等号成立，最后可以找到重复数字的第一个，比如 1122225\n",
    "            #left = mid   # 如果是这样，可以找到重复数字的最后一个\n",
    "        elif alist[mid] < target:\n",
    "            left = mid   # 这样的等号，用于不能排除 mid 这个数字的情况\n",
    "        else:\n",
    "            right = mid\n",
    "            \n",
    "    if alist[left] == target:\n",
    "        return left\n",
    "    elif alist[right] == target:\n",
    "        return right\n",
    "    else:\n",
    "        return -1\n",
    "\n",
    "alist = [1,2,3,4]\n",
    "target = 5\n",
    "binary_search(alist, target)"
   ]
  },
  {
   "cell_type": "markdown",
   "metadata": {},
   "source": [
    "### 链表"
   ]
  },
  {
   "cell_type": "markdown",
   "metadata": {},
   "source": [
    "### 堆栈和队列"
   ]
  },
  {
   "cell_type": "code",
   "execution_count": 13,
   "metadata": {},
   "outputs": [
    {
     "name": "stdout",
     "output_type": "stream",
     "text": [
      "deque([1, 2, 3])\n",
      "1\n",
      "deque([2, 3])\n",
      "3\n",
      "deque([2])\n"
     ]
    }
   ],
   "source": [
    "from collections import deque\n",
    "q = deque()\n",
    "q.append(1)\n",
    "q.append(2)\n",
    "q.append(3)\n",
    "print(q)\n",
    "print(q.popleft()) # 弹出左边的值\n",
    "print(q)\n",
    "print(q.pop()) # 弹出右边的值\n",
    "print(q)"
   ]
  },
  {
   "cell_type": "code",
   "execution_count": 14,
   "metadata": {},
   "outputs": [
    {
     "data": {
      "text/plain": [
       "['', '..', 'a', '.', '']"
      ]
     },
     "execution_count": 14,
     "metadata": {},
     "output_type": "execute_result"
    }
   ],
   "source": [
    "path = '/../a/./'\n",
    "a = path.split(\"/\")\n",
    "a"
   ]
  },
  {
   "cell_type": "markdown",
   "metadata": {},
   "source": [
    "### 树"
   ]
  },
  {
   "cell_type": "code",
   "execution_count": 11,
   "metadata": {},
   "outputs": [
    {
     "name": "stdout",
     "output_type": "stream",
     "text": [
      "1 2 # 3 7 # 4 # 8 6 # 9 9 # # # # # #\n",
      "[3, 6, 4, 2, 7, 9, 8, 9, 1]\n"
     ]
    },
    {
     "data": {
      "image/png": "[encoded data removed]",
      "text/plain": [
       "<Figure size 576x720 with 1 Axes>"
      ]
     },
     "metadata": {
      "needs_background": "light"
     },
     "output_type": "display_data"
    }
   ],
   "source": [
    "# expression tree\n",
    "\n",
    "a = [3,6,4,2,7,9,8,9,1]\n",
    "\n",
    "class TreeNode:\n",
    "    def __init__(self, val):\n",
    "        self.val = val\n",
    "        self.right = None\n",
    "        self.left = None\n",
    "\n",
    "def build(a):\n",
    "    stack = []\n",
    "           \n",
    "    for num in a:\n",
    "        node = TreeNode(num)\n",
    "        while stack and stack[-1].val>=node.val:\n",
    "            node.left = stack.pop()  # 每个node进来的时候，就有了左儿子\n",
    "        if stack:\n",
    "            stack[-1].right = node  # 这个right只是暂时的，如果后面还有比这个node大的，更接近的，right就会变\n",
    "\n",
    "        stack.append(node)\n",
    "\n",
    "    if not stack: return None\n",
    "    while stack:\n",
    "        res = stack.pop()\n",
    "    return res\n",
    "\n",
    "res = build(a)\n",
    "\n",
    "from collections import deque\n",
    "def serialize(root):\n",
    "    if root is None: return \"\"\n",
    "    queue = deque([root])\n",
    "    bfs_order = []\n",
    "    while queue:\n",
    "        node = queue.popleft()\n",
    "        bfs_order.append(str(node.val) if node else '#')\n",
    "        if node: # 只有在是node 的情况下， 才append到queue 里面\n",
    "            queue.append(node.left)\n",
    "            queue.append(node.right)\n",
    "    return ' '.join(bfs_order)  \n",
    "print(serialize(res))\n",
    "\n",
    "# 画树\n",
    "print(a)\n",
    "import networkx as nx\n",
    "import matplotlib.pyplot as plt\n",
    "def create_graph(G, node, pos={}, x=0, y=0, layer=1):\n",
    "    pos[node.val] = (x, y)\n",
    "    if node.left:\n",
    "        G.add_edge(node.val, node.left.val)\n",
    "        l_x, l_y = x - 1 / 2 ** layer, y - 1\n",
    "        l_layer = layer + 1\n",
    "        create_graph(G, node.left, x=l_x, y=l_y, pos=pos, layer=l_layer)\n",
    "    if node.right:\n",
    "        G.add_edge(node.val, node.right.val)\n",
    "        r_x, r_y = x + 1 / 2 ** layer, y - 1\n",
    "        r_layer = layer + 1\n",
    "        create_graph(G, node.right, x=r_x, y=r_y, pos=pos, layer=r_layer)\n",
    "    return (G, pos)\n",
    "def draw(node):   # 以某个节点为根画图\n",
    "    graph = nx.DiGraph()\n",
    "    graph, pos = create_graph(graph, node)\n",
    "    fig, ax = plt.subplots(figsize=(8, 10))  # 比例可以根据树的深度适当调节\n",
    "    nx.draw_networkx(graph, pos, ax=ax, node_size=300)\n",
    "    plt.show()\n",
    "    \n",
    "draw(res)\n",
    "# 树的父节点总是比儿子小，节点的右儿子一定在 原数组中 这个节点的 右边, 节点的左儿子一定在 原数组中这个节点的 左边\n"
   ]
  },
  {
   "cell_type": "code",
   "execution_count": null,
   "metadata": {},
   "outputs": [],
   "source": []
  }
 ],
 "metadata": {
  "kernelspec": {
   "display_name": "Python 3",
   "language": "python",
   "name": "python3"
  },
  "language_info": {
   "codemirror_mode": {
    "name": "ipython",
    "version": 3
   },
   "file_extension": ".py",
   "mimetype": "text/x-python",
   "name": "python",
   "nbconvert_exporter": "python",
   "pygments_lexer": "ipython3",
   "version": "3.7.3"
  },
  "latex_envs": {
   "LaTeX_envs_menu_present": true,
   "autoclose": false,
   "autocomplete": true,
   "bibliofile": "biblio.bib",
   "cite_by": "apalike",
   "current_citInitial": 1,
   "eqLabelWithNumbers": true,
   "eqNumInitial": 1,
   "hotkeys": {
    "equation": "Ctrl-E",
    "itemize": "Ctrl-I"
   },
   "labels_anchors": false,
   "latex_user_defs": false,
   "report_style_numbering": false,
   "user_envs_cfg": false
  },
  "toc": {
   "base_numbering": 1,
   "nav_menu": {},
   "number_sections": true,
   "sideBar": true,
   "skip_h1_title": false,
   "title_cell": "Table of Contents",
   "title_sidebar": "Contents",
   "toc_cell": true,
   "toc_position": {},
   "toc_section_display": true,
   "toc_window_display": false
  }
 },
 "nbformat": 4,
 "nbformat_minor": 2
}
